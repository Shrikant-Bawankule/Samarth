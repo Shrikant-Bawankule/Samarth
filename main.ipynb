{
 "cells": [
  {
   "cell_type": "code",
   "execution_count": 2,
   "id": "8fcda8b1-b732-4731-aa65-ca26b06a6e30",
   "metadata": {},
   "outputs": [
    {
     "name": "stdout",
     "output_type": "stream",
     "text": [
      "Agriculture columns: ['Sl. No.', 'Crop', 'Unit', 'Quantity Procured - 2017-18', 'Quantity Procured - 2018-19', 'Quantity Procured - 2019-20', 'Quantity Procured - 2020-21', 'Quantity Procured - 2021-22']\n",
      "Rainfall columns: ['SUBDIVISION', 'YEAR', 'JAN', 'FEB', 'MAR', 'APR', 'MAY', 'JUN', 'JUL', 'AUG', 'SEP', 'OCT', 'NOV', 'DEC', 'ANNUAL', 'JF', 'MAM', 'JJAS', 'OND']\n"
     ]
    }
   ],
   "source": [
    "import pandas as pd\n",
    "\n",
    "agri = pd.read_csv(\"RS_Session_258_AU_1212_2.csv\")\n",
    "rain = pd.read_csv(\"Sub_Division_IMD_2017.csv\")\n",
    "\n",
    "print(\"Agriculture columns:\", list(agri.columns))\n",
    "print(\"Rainfall columns:\", list(rain.columns))\n"
   ]
  },
  {
   "cell_type": "code",
   "execution_count": 3,
   "id": "1c654fae-93a4-4da2-885a-402210488aff",
   "metadata": {},
   "outputs": [
    {
     "name": "stdout",
     "output_type": "stream",
     "text": [
      "{'State_1': 'Maharashtra', 'Avg_Rainfall_1': nan, 'State_2': 'Karnataka', 'Avg_Rainfall_2': nan, 'Higher_Rainfall_State': 'Both have equal rainfall', 'Source': 'data.gov.in – Rainfall Statistics of India (IMD)'}\n"
     ]
    }
   ],
   "source": [
    "import pandas as pd\n",
    "\n",
    "# Load rainfall dataset (keep original columns)\n",
    "rain = pd.read_csv(\"Sub_Division_IMD_2017.csv\")\n",
    "\n",
    "def compare_rainfall(state1, state2, start_year, end_year):\n",
    "    # Filter only required years\n",
    "    rain_filtered = rain[(rain['YEAR'] >= start_year) & (rain['YEAR'] <= end_year)]\n",
    "    \n",
    "    # Filter for given subdivisions (case-insensitive match)\n",
    "    s1 = rain_filtered[rain_filtered['SUBDIVISION'].str.lower() == state1.lower()]\n",
    "    s2 = rain_filtered[rain_filtered['SUBDIVISION'].str.lower() == state2.lower()]\n",
    "    \n",
    "    # Compute mean of “ANNUAL” column\n",
    "    avg1 = s1['ANNUAL'].mean()\n",
    "    avg2 = s2['ANNUAL'].mean()\n",
    "    \n",
    "    # Prepare readable result\n",
    "    if avg1 > avg2:\n",
    "        higher = state1\n",
    "    elif avg2 > avg1:\n",
    "        higher = state2\n",
    "    else:\n",
    "        higher = \"Both have equal rainfall\"\n",
    "    \n",
    "    return {\n",
    "        \"State_1\": state1,\n",
    "        \"Avg_Rainfall_1\": round(avg1, 2),\n",
    "        \"State_2\": state2,\n",
    "        \"Avg_Rainfall_2\": round(avg2, 2),\n",
    "        \"Higher_Rainfall_State\": higher,\n",
    "        \"Source\": \"data.gov.in – Rainfall Statistics of India (IMD)\"\n",
    "    }\n",
    "\n",
    "# Example test\n",
    "result = compare_rainfall(\"Maharashtra\", \"Karnataka\", 2015, 2019)\n",
    "print(result)\n"
   ]
  },
  {
   "cell_type": "code",
   "execution_count": 4,
   "id": "3c2ce488-a905-496c-bae0-07af7852c55c",
   "metadata": {},
   "outputs": [
    {
     "name": "stdout",
     "output_type": "stream",
     "text": [
      "{'Top_Crops': [{'Rank': 13, 'Crop': 'Gram', 'Quantity': 637545.78}, {'Rank': 6, 'Crop': 'Ragi', 'Quantity': 494350.0}, {'Rank': 4, 'Crop': 'Bajra', 'Quantity': 361871.0}, {'Rank': 8, 'Crop': 'Groundnut', 'Quantity': 286233.33}, {'Rank': 5, 'Crop': 'Maize', 'Quantity': 205315.0}], 'Source': 'data.gov.in – District-wise Crop Procurement Statistics'}\n"
     ]
    }
   ],
   "source": [
    "import pandas as pd\n",
    "\n",
    "agri = pd.read_csv(\"RS_Session_258_AU_1212_2.csv\")\n",
    "\n",
    "def top_crops_by_production(top_n, year_column):\n",
    "    # Check if year column exists\n",
    "    if year_column not in agri.columns:\n",
    "        return f\"Column '{year_column}' not found. Please use correct format like 'Quantity Procured - 2020-21'.\"\n",
    "    \n",
    "    # Sort crops by selected year's quantity\n",
    "    top_crops = agri[['Crop', year_column]].sort_values(by=year_column, ascending=False).head(top_n)\n",
    "    \n",
    "    # Convert to readable list\n",
    "    result = [\n",
    "        {\"Rank\": i+1, \"Crop\": row['Crop'], \"Quantity\": row[year_column]}\n",
    "        for i, row in top_crops.iterrows()\n",
    "    ]\n",
    "    \n",
    "    return {\n",
    "        \"Top_Crops\": result,\n",
    "        \"Source\": \"data.gov.in – District-wise Crop Procurement Statistics\"\n",
    "    }\n",
    "\n",
    "# Example usage\n",
    "result = top_crops_by_production(5, 'Quantity Procured - 2020-21')\n",
    "print(result)\n"
   ]
  },
  {
   "cell_type": "code",
   "execution_count": 5,
   "id": "a3bd1e5c-a50b-4a95-98e9-f65d60c8b58d",
   "metadata": {},
   "outputs": [
    {
     "name": "stdout",
     "output_type": "stream",
     "text": [
      "{'Rainfall_Comparison': {'State_1': 'Maharashtra', 'Avg_Rainfall_1': nan, 'State_2': 'Karnataka', 'Avg_Rainfall_2': nan, 'Higher_Rainfall_State': 'Both have equal rainfall', 'Source': 'data.gov.in – Rainfall Statistics of India (IMD)'}, 'Top_Crops': [{'Rank': 13, 'Crop': 'Gram', 'Quantity': 637545.78}, {'Rank': 6, 'Crop': 'Ragi', 'Quantity': 494350.0}, {'Rank': 4, 'Crop': 'Bajra', 'Quantity': 361871.0}, {'Rank': 8, 'Crop': 'Groundnut', 'Quantity': 286233.33}, {'Rank': 5, 'Crop': 'Maize', 'Quantity': 205315.0}], 'Sources': ['data.gov.in – Rainfall Statistics of India (IMD)', 'data.gov.in – District-wise Crop Procurement Statistics']}\n"
     ]
    }
   ],
   "source": [
    "def rainfall_and_crop_summary(state1, state2, start_year, end_year, top_n, crop_year_column):\n",
    "    # Step 1: Compare rainfall\n",
    "    rain_result = compare_rainfall(state1, state2, start_year, end_year)\n",
    "    \n",
    "    # Step 2: Top crops\n",
    "    crop_result = top_crops_by_production(top_n, crop_year_column)\n",
    "    \n",
    "    # Step 3: Combine both\n",
    "    combined_result = {\n",
    "        \"Rainfall_Comparison\": rain_result,\n",
    "        \"Top_Crops\": crop_result[\"Top_Crops\"],\n",
    "        \"Sources\": [\n",
    "            rain_result[\"Source\"],\n",
    "            crop_result[\"Source\"]\n",
    "        ]\n",
    "    }\n",
    "    \n",
    "    return combined_result\n",
    "\n",
    "# Example usage\n",
    "result = rainfall_and_crop_summary(\"Maharashtra\", \"Karnataka\", 2015, 2019, 5, 'Quantity Procured - 2020-21')\n",
    "print(result)\n",
    "\n"
   ]
  },
  {
   "cell_type": "code",
   "execution_count": null,
   "id": "dd5fee8f-ecc3-4ea5-b511-b7bd29fe1e7b",
   "metadata": {},
   "outputs": [],
   "source": []
  }
 ],
 "metadata": {
  "kernelspec": {
   "display_name": "Python 3 (ipykernel)",
   "language": "python",
   "name": "python3"
  },
  "language_info": {
   "codemirror_mode": {
    "name": "ipython",
    "version": 3
   },
   "file_extension": ".py",
   "mimetype": "text/x-python",
   "name": "python",
   "nbconvert_exporter": "python",
   "pygments_lexer": "ipython3",
   "version": "3.13.5"
  }
 },
 "nbformat": 4,
 "nbformat_minor": 5
}
